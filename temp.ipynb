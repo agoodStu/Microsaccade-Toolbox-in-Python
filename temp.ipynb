{
 "cells": [
  {
   "cell_type": "code",
   "execution_count": null,
   "metadata": {},
   "outputs": [],
   "source": [
    "# generating a sample_data file"
   ]
  },
  {
   "cell_type": "code",
   "execution_count": 6,
   "metadata": {},
   "outputs": [
    {
     "name": "stdout",
     "output_type": "stream",
     "text": [
      "done\n"
     ]
    }
   ],
   "source": [
    "\n",
    "# imports\n",
    "import pickle\n",
    "import numpy as np\n",
    "\n",
    "from copy import deepcopy\n",
    "\n",
    "\n",
    "import plastid.plotting.plots as plastid\n",
    "\n",
    "\n",
    "\n",
    "import matplotlib as mpl\n",
    "from matplotlib import image, patches, colors\n",
    "import matplotlib.pyplot as plt\n",
    "from matplotlib.lines import lineStyles\n",
    "import matplotlib.patches as patches\n",
    "from matplotlib.font_manager import FontProperties\n",
    "mpl.rc(\"savefig\", dpi=200)\n",
    "\n",
    "\n",
    "\n",
    "from sklearn import linear_model, datasets\n",
    "\n",
    "from itertools import groupby\n",
    "import pandas as pd\n",
    "from pandas import Series, DataFrame\n",
    "\n",
    "import time\n",
    "import scipy.stats as stats\n",
    "from statsmodels.stats.multicomp import pairwise_tukeyhsd\n",
    "\n",
    "import copy\n",
    "\n",
    "\n",
    "import mpld3\n",
    "from mpld3 import plugins\n",
    "\n",
    "\n",
    "import os\n",
    "\n",
    "import ipywidgets as widgets\n",
    "from ipywidgets import interact, interactive, fixed, interact_manual\n",
    "from IPython.display import display,clear_output\n",
    "from glob import glob\n",
    "\n",
    "import math\n",
    "import colorsys\n",
    "\n",
    "\n",
    "import warnings\n",
    "warnings.filterwarnings('ignore')\n",
    "\n",
    "\n",
    "\n",
    "cols=['LEFT_FIX_INDEX', 'LEFT_GAZE_X', 'LEFT_GAZE_Y',\n",
    "\n",
    "   'LEFT_IN_BLINK', 'LEFT_IN_SACCADE',\n",
    "   'LEFT_SACCADE_INDEX', 'LEFT_VELOCITY_X', 'LEFT_VELOCITY_Y',\n",
    "   'RIGHT_FIX_INDEX',\n",
    "      'RIGHT_GAZE_X','RIGHT_GAZE_Y', 'RESOLUTION_X', 'RESOLUTION_Y',\n",
    "\n",
    "   'RIGHT_IN_BLINK', 'RIGHT_IN_SACCADE',\n",
    "   'RIGHT_SACCADE_INDEX', 'RIGHT_VELOCITY_X', 'RIGHT_VELOCITY_Y',\n",
    "   'SAMPLE_MESSAGE',\n",
    "   \n",
    "   'TIMESTAMP', 'TRIAL_INDEX','block']\n",
    "\n",
    "file='/Users/Diako/Box Sync/MoDEM - Computer Science Shared/DATASETs/PS/PS_mc205ka.xls'\n",
    "file='/Users/Diako/Box Sync/MoDEM - Computer Science Shared/DATASETs/PS_Dyslexia_experiment/PS_cont_nperrin.xls'\n",
    "df=pd.read_csv(file, delimiter=\"\\t\", na_values=['.'],usecols=cols, low_memory=True)\n",
    "df=df.rename({'SAMPLE_MESSAGE': 'EVENT'},axis=1)\n",
    "\n",
    "\n",
    "\n",
    "\n",
    "df.EVENT=df.EVENT.map({'Initial_display':'Center_Target_Start', 'Display_initial_time_out':'Center_Target_End',\n",
    "       'Blank_display':'Blank_Start', 'Blank_time_out':'Blank_End', 'Target_display':'Target_Start',\n",
    "       'Target_timeout':'Target_End'})\n",
    "\n",
    "\n",
    "\n",
    "\n",
    "# test\n",
    "df.EVENT.unique()\n",
    "df.reset_index(inplace=True,drop=True)\n",
    "# df.to_csv( 'sample_data.csv',sep=',', index=True, header=True)\n",
    "with pd.ExcelWriter ('sample_data2.xlsx') as writer:\n",
    "    df.to_excel(writer, sheet_name = 'Sheet1',engine='xlsxwriter',index=False)\n",
    "\n",
    "\n",
    "print('done')"
   ]
  }
 ],
 "metadata": {
  "kernelspec": {
   "display_name": "Python 3",
   "language": "python",
   "name": "python3"
  },
  "language_info": {
   "codemirror_mode": {
    "name": "ipython",
    "version": 3
   },
   "file_extension": ".py",
   "mimetype": "text/x-python",
   "name": "python",
   "nbconvert_exporter": "python",
   "pygments_lexer": "ipython3",
   "version": "3.6.1"
  },
  "toc": {
   "colors": {
    "hover_highlight": "#DAA520",
    "navigate_num": "#000000",
    "navigate_text": "#333333",
    "running_highlight": "#FF0000",
    "selected_highlight": "#FFD700",
    "sidebar_border": "#EEEEEE",
    "wrapper_background": "#FFFFFF"
   },
   "moveMenuLeft": true,
   "nav_menu": {
    "height": "12px",
    "width": "252px"
   },
   "navigate_menu": true,
   "number_sections": true,
   "sideBar": true,
   "threshold": 4,
   "toc_cell": false,
   "toc_section_display": "block",
   "toc_window_display": false,
   "widenNotebook": false
  }
 },
 "nbformat": 4,
 "nbformat_minor": 2
}
