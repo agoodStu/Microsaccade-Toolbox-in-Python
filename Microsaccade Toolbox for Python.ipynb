{
 "cells": [
  {
   "cell_type": "raw",
   "metadata": {},
   "source": [
    "'''\n",
    "Created on May 17, 2018\n",
    "\n",
    "A python implementation for extracting microsaccades in python \n",
    "based on the algorithm proposed by Engbert et al. (2015). \n",
    "This code is developed by Dr. Diako Mardanbegi\n",
    "\n",
    "This program is free software: you can redistribute it and/or modify\n",
    "it under the terms of the GNU General Public License as published by\n",
    "the Free Software Foundation, either version 3 of the License, or\n",
    "(at your option) any later version.\n",
    "\n",
    "This program is distributed in the hope that it will be useful,\n",
    "but WITHOUT ANY WARRANTY; without even the implied warranty of\n",
    "MERCHANTABILITY or FITNESS FOR A PARTICULAR PURPOSE.  See the\n",
    "GNU General Public License for more details.\n",
    "\n",
    "You should have received a copy of the GNU General Public License\n",
    "along with this program.  If not, see <http://www.gnu.org/licenses/>\n",
    "\n",
    "\n",
    "@author: Diako Mardanbegi <dmardanbeigi@gmail.com>\n",
    "http://www.dmardanbegi.com\n",
    "'''"
   ]
  },
  {
   "cell_type": "code",
   "execution_count": 14,
   "metadata": {
    "code_folding": [
     0
    ]
   },
   "outputs": [],
   "source": [
    "# # imports\n",
    "\n",
    "\n",
    "import ipywidgets as widgets\n",
    "from ipywidgets import interact, interactive, fixed, interact_manual\n",
    "from IPython.display import display,clear_output\n",
    "import pickle\n",
    "import numpy as np\n",
    "from copy import deepcopy\n",
    "import matplotlib.pyplot as plt\n",
    "import matplotlib as mpl\n",
    "from sklearn import linear_model, datasets\n",
    "import pandas as pd\n",
    "import copy\n",
    "import mpld3\n",
    "import math\n",
    "mpl.rc(\"savefig\", dpi=200)\n",
    "import plastid.plotting.plots as plastid\n",
    "import scipy\n",
    "\n",
    "import warnings\n",
    "warnings.filterwarnings('ignore')"
   ]
  },
  {
   "cell_type": "markdown",
   "metadata": {},
   "source": [
    "# Intro"
   ]
  },
  {
   "cell_type": "markdown",
   "metadata": {},
   "source": [
    "A python implementation for extracting microsaccades in python based on the algorithm proposed by Engbert et al. (2015). \n",
    "\n",
    "All the main functions are defined inside the file \"functions.ipyn\" and this page shows an example on how to use the tools. \n",
    "The example shown in this notebook extracts the microsaccades from the fixations before target onset in a dataset recorded from a Pro-Saccade experiment containing a few trials. The microsaccades are extracted seperatly for the left and the right eye and binocular microsaccades can later be detected by a temporal overlap criterion on the left and the right results. Monocular microsaccades are filtered based on the amplitude, duration and peak velocity criteria defined by the user [see here](#criteria). A secondary step of filtering will be applied on the remaining candidates based on the RANSAC linrear regression on the main sequence and all the outliers will be removed based on this. \n",
    "\n",
    "**ASSUMPTIONS:**\n",
    "- Only tested on data recorded by eyelink 1000 at 500Hz but it should work fine for any kind of eye tracking data as long as the data has the right format and contains all necessary columns. \n",
    "- The input has to be an excel file (.xls) containing the eye tracking data (exported from the eyelink data viewer software) containing the following columns. See [Columns](#columns)\n",
    "- miu_x and miu_y are calculated seperatly for each fixation.\n",
    "\n",
    "**TODO:**\n",
    "- The post-verification step for checking binocular microsaccades (checking whether the same microsaccade is happing on both eyes) is currently only based on temporal overlap criterion. Checking the Angle (direction of the microsaccades) could be added to this step as well if we assume that both left and right microsaccades are towards the same direction. \n"
   ]
  },
  {
   "cell_type": "code",
   "execution_count": 2,
   "metadata": {
    "code_folding": [
     0
    ]
   },
   "outputs": [],
   "source": [
    "# Loading the functions file\n",
    "%run ./functions.ipynb"
   ]
  },
  {
   "cell_type": "markdown",
   "metadata": {},
   "source": [
    "# Loading eye tracking data\n",
    "The sample_data.xlsx contains the eye tracking data from a Pro-Saccade experiment (look at the center & look at the target). "
   ]
  },
  {
   "cell_type": "code",
   "execution_count": 3,
   "metadata": {},
   "outputs": [
    {
     "name": "stdout",
     "output_type": "stream",
     "text": [
      "CPU times: user 20 s, sys: 296 ms, total: 20.3 s\n",
      "Wall time: 20.7 s\n"
     ]
    }
   ],
   "source": [
    "%%time\n",
    "df=pd.read_excel('sample_data2.xlsx', delimiter=\"\\t\", na_values=['.'], low_memory=True)\n"
   ]
  },
  {
   "cell_type": "markdown",
   "metadata": {},
   "source": [
    "## List of columns in the data file\n",
    "<a id='columns'></a>"
   ]
  },
  {
   "cell_type": "code",
   "execution_count": 4,
   "metadata": {},
   "outputs": [
    {
     "data": {
      "text/plain": [
       "['LEFT_FIX_INDEX',\n",
       " 'LEFT_GAZE_X',\n",
       " 'LEFT_GAZE_Y',\n",
       " 'LEFT_IN_BLINK',\n",
       " 'LEFT_IN_SACCADE',\n",
       " 'LEFT_SACCADE_INDEX',\n",
       " 'LEFT_VELOCITY_X',\n",
       " 'LEFT_VELOCITY_Y',\n",
       " 'RESOLUTION_X',\n",
       " 'RESOLUTION_Y',\n",
       " 'RIGHT_FIX_INDEX',\n",
       " 'RIGHT_GAZE_X',\n",
       " 'RIGHT_GAZE_Y',\n",
       " 'RIGHT_IN_BLINK',\n",
       " 'RIGHT_IN_SACCADE',\n",
       " 'RIGHT_SACCADE_INDEX',\n",
       " 'RIGHT_VELOCITY_X',\n",
       " 'RIGHT_VELOCITY_Y',\n",
       " 'EVENT',\n",
       " 'TIMESTAMP',\n",
       " 'TRIAL_INDEX']"
      ]
     },
     "execution_count": 4,
     "metadata": {},
     "output_type": "execute_result"
    }
   ],
   "source": [
    "list(df.columns.values)"
   ]
  },
  {
   "cell_type": "markdown",
   "metadata": {},
   "source": [
    "## Events needed in the EVENT column"
   ]
  },
  {
   "cell_type": "code",
   "execution_count": 5,
   "metadata": {},
   "outputs": [
    {
     "data": {
      "text/plain": [
       "[nan,\n",
       " 'Center_Target_Start',\n",
       " 'Center_Target_End',\n",
       " 'Blank_Start',\n",
       " 'Blank_End',\n",
       " 'Target_Start',\n",
       " 'Target_End']"
      ]
     },
     "execution_count": 5,
     "metadata": {},
     "output_type": "execute_result"
    }
   ],
   "source": [
    "list(df.EVENT.unique())"
   ]
  },
  {
   "cell_type": "markdown",
   "metadata": {
    "code_folding": []
   },
   "source": [
    "# Set parameters\n",
    "<a id='criteria'></a>"
   ]
  },
  {
   "cell_type": "code",
   "execution_count": 15,
   "metadata": {},
   "outputs": [
    {
     "data": {
      "application/vnd.jupyter.widget-view+json": {
       "model_id": "1982e4a1810f48f8bcb79f2e9b2ba43f",
       "version_major": 2,
       "version_minor": 0
      },
      "text/html": [
       "<p>Failed to display Jupyter Widget of type <code>VBox</code>.</p>\n",
       "<p>\n",
       "  If you're reading this message in the Jupyter Notebook or JupyterLab Notebook, it may mean\n",
       "  that the widgets JavaScript is still loading. If this message persists, it\n",
       "  likely means that the widgets JavaScript library is either not installed or\n",
       "  not enabled. See the <a href=\"https://ipywidgets.readthedocs.io/en/stable/user_install.html\">Jupyter\n",
       "  Widgets Documentation</a> for setup instructions.\n",
       "</p>\n",
       "<p>\n",
       "  If you're reading this message in another frontend (for example, a static\n",
       "  rendering on GitHub or <a href=\"https://nbviewer.jupyter.org/\">NBViewer</a>),\n",
       "  it may mean that your frontend doesn't currently support widgets.\n",
       "</p>\n"
      ],
      "text/plain": [
       "VBox(children=(FloatRangeSlider(value=(0.01, 0.7), continuous_update=False, description='Micro-saccade amplitude [deg]', layout=Layout(width='auto'), max=1.0, readout_format='.1f', step=0.01, style=SliderStyle(description_width='initial')), FloatRangeSlider(value=(5.0, 40.0), continuous_update=False, description='Micro-saccade duration [ms]', layout=Layout(width='auto'), readout_format='.1f', step=1.0, style=SliderStyle(description_width='initial')), FloatRangeSlider(value=(0.0, 60.0), continuous_update=False, description='Micro-saccade peak velocity [deg/sec]', layout=Layout(width='auto'), readout_format='.1f', step=1.0, style=SliderStyle(description_width='initial')), FloatSlider(value=4.0, description='\\\\(Engbert \\\\;\\\\lambda \\\\;value\\\\)', layout=Layout(width='auto'), max=8.0, min=2.0), RadioButtons(description='Options', index=1, layout=Layout(width='auto'), options=('include all fixations', 'only fixations before target onset'), style=DescriptionStyle(description_width='initial'), value='only fixations before target onset')), layout=Layout(align_items='stretch', display='flex', flex_flow='column', width='auto'))"
      ]
     },
     "metadata": {},
     "output_type": "display_data"
    }
   ],
   "source": [
    "display(SetParameters)"
   ]
  },
  {
   "cell_type": "markdown",
   "metadata": {},
   "source": [
    "# Pre-processing the eye data\n",
    "Cleaning the eye data and refining the fixation regions"
   ]
  },
  {
   "cell_type": "code",
   "execution_count": 16,
   "metadata": {},
   "outputs": [
    {
     "name": "stdout",
     "output_type": "stream",
     "text": [
      "CPU times: user 5 µs, sys: 2 µs, total: 7 µs\n",
      "Wall time: 13.1 µs\n",
      "dataset processed!\n"
     ]
    }
   ],
   "source": [
    "%time\n",
    "df=PreProcessEyeData(df)"
   ]
  },
  {
   "cell_type": "markdown",
   "metadata": {},
   "source": [
    "# Extracting microsaccades"
   ]
  },
  {
   "cell_type": "code",
   "execution_count": 17,
   "metadata": {
    "code_folding": [
     1
    ]
   },
   "outputs": [
    {
     "name": "stdout",
     "output_type": "stream",
     "text": [
      "Eye: RIGHT\n"
     ]
    },
    {
     "data": {
      "application/vnd.jupyter.widget-view+json": {
       "model_id": "389ff0dd5f064bc4baa820a1dbe825ed",
       "version_major": 2,
       "version_minor": 0
      },
      "text/html": [
       "<p>Failed to display Jupyter Widget of type <code>Output</code>.</p>\n",
       "<p>\n",
       "  If you're reading this message in the Jupyter Notebook or JupyterLab Notebook, it may mean\n",
       "  that the widgets JavaScript is still loading. If this message persists, it\n",
       "  likely means that the widgets JavaScript library is either not installed or\n",
       "  not enabled. See the <a href=\"https://ipywidgets.readthedocs.io/en/stable/user_install.html\">Jupyter\n",
       "  Widgets Documentation</a> for setup instructions.\n",
       "</p>\n",
       "<p>\n",
       "  If you're reading this message in another frontend (for example, a static\n",
       "  rendering on GitHub or <a href=\"https://nbviewer.jupyter.org/\">NBViewer</a>),\n",
       "  it may mean that your frontend doesn't currently support widgets.\n",
       "</p>\n"
      ],
      "text/plain": [
       "Output()"
      ]
     },
     "metadata": {},
     "output_type": "display_data"
    },
    {
     "name": "stdout",
     "output_type": "stream",
     "text": [
      "83 microsaccades found among 97 candidates\n",
      "----------------\n",
      "Eye: LEFT\n"
     ]
    },
    {
     "data": {
      "application/vnd.jupyter.widget-view+json": {
       "model_id": "5a198eed44a449b79fbecf1b6e8a7a0b",
       "version_major": 2,
       "version_minor": 0
      },
      "text/html": [
       "<p>Failed to display Jupyter Widget of type <code>Output</code>.</p>\n",
       "<p>\n",
       "  If you're reading this message in the Jupyter Notebook or JupyterLab Notebook, it may mean\n",
       "  that the widgets JavaScript is still loading. If this message persists, it\n",
       "  likely means that the widgets JavaScript library is either not installed or\n",
       "  not enabled. See the <a href=\"https://ipywidgets.readthedocs.io/en/stable/user_install.html\">Jupyter\n",
       "  Widgets Documentation</a> for setup instructions.\n",
       "</p>\n",
       "<p>\n",
       "  If you're reading this message in another frontend (for example, a static\n",
       "  rendering on GitHub or <a href=\"https://nbviewer.jupyter.org/\">NBViewer</a>),\n",
       "  it may mean that your frontend doesn't currently support widgets.\n",
       "</p>\n"
      ],
      "text/plain": [
       "Output()"
      ]
     },
     "metadata": {},
     "output_type": "display_data"
    },
    {
     "name": "stdout",
     "output_type": "stream",
     "text": [
      "LEFT eye probobly does not exist in the dataset!\n",
      "No microsaccades found\n",
      "----------------\n"
     ]
    }
   ],
   "source": [
    "\n",
    "MS_RIGHT=GetMicrosaccades(df,EYE='RIGHT')\n",
    "MS_LEFT=GetMicrosaccades(df,EYE='LEFT')\n",
    "\n"
   ]
  },
  {
   "cell_type": "markdown",
   "metadata": {},
   "source": [
    "# Microsaccades table"
   ]
  },
  {
   "cell_type": "code",
   "execution_count": 18,
   "metadata": {},
   "outputs": [
    {
     "data": {
      "text/html": [
       "<div>\n",
       "<style scoped>\n",
       "    .dataframe tbody tr th:only-of-type {\n",
       "        vertical-align: middle;\n",
       "    }\n",
       "\n",
       "    .dataframe tbody tr th {\n",
       "        vertical-align: top;\n",
       "    }\n",
       "\n",
       "    .dataframe thead th {\n",
       "        text-align: right;\n",
       "    }\n",
       "</style>\n",
       "<table border=\"1\" class=\"dataframe\">\n",
       "  <thead>\n",
       "    <tr style=\"text-align: right;\">\n",
       "      <th></th>\n",
       "      <th>amp_deg</th>\n",
       "      <th>angle</th>\n",
       "      <th>duration</th>\n",
       "      <th>end_frame_index</th>\n",
       "      <th>eye</th>\n",
       "      <th>fixation_index</th>\n",
       "      <th>miu_x</th>\n",
       "      <th>miu_y</th>\n",
       "      <th>peak_vel</th>\n",
       "      <th>start_frame_index</th>\n",
       "      <th>start_time_to_target</th>\n",
       "      <th>trial_index</th>\n",
       "      <th>vel_std_x</th>\n",
       "      <th>vel_std_y</th>\n",
       "      <th>filter1_outlier</th>\n",
       "      <th>filter2_outlier</th>\n",
       "    </tr>\n",
       "  </thead>\n",
       "  <tbody>\n",
       "    <tr>\n",
       "      <th>0</th>\n",
       "      <td>0.157</td>\n",
       "      <td>278.427</td>\n",
       "      <td>6.0</td>\n",
       "      <td>271.0</td>\n",
       "      <td>RIGHT</td>\n",
       "      <td>1.0</td>\n",
       "      <td>5.186</td>\n",
       "      <td>9.674</td>\n",
       "      <td>26.068</td>\n",
       "      <td>268.0</td>\n",
       "      <td>-712.0</td>\n",
       "      <td>1.0</td>\n",
       "      <td>2.593</td>\n",
       "      <td>4.837</td>\n",
       "      <td>False</td>\n",
       "      <td>False</td>\n",
       "    </tr>\n",
       "    <tr>\n",
       "      <th>1</th>\n",
       "      <td>0.115</td>\n",
       "      <td>272.862</td>\n",
       "      <td>6.0</td>\n",
       "      <td>279.0</td>\n",
       "      <td>RIGHT</td>\n",
       "      <td>1.0</td>\n",
       "      <td>5.186</td>\n",
       "      <td>9.674</td>\n",
       "      <td>20.128</td>\n",
       "      <td>276.0</td>\n",
       "      <td>-696.0</td>\n",
       "      <td>1.0</td>\n",
       "      <td>2.593</td>\n",
       "      <td>4.837</td>\n",
       "      <td>False</td>\n",
       "      <td>False</td>\n",
       "    </tr>\n",
       "    <tr>\n",
       "      <th>2</th>\n",
       "      <td>0.049</td>\n",
       "      <td>221.186</td>\n",
       "      <td>6.0</td>\n",
       "      <td>343.0</td>\n",
       "      <td>RIGHT</td>\n",
       "      <td>1.0</td>\n",
       "      <td>5.186</td>\n",
       "      <td>9.674</td>\n",
       "      <td>8.164</td>\n",
       "      <td>340.0</td>\n",
       "      <td>-568.0</td>\n",
       "      <td>1.0</td>\n",
       "      <td>2.593</td>\n",
       "      <td>4.837</td>\n",
       "      <td>False</td>\n",
       "      <td>False</td>\n",
       "    </tr>\n",
       "    <tr>\n",
       "      <th>3</th>\n",
       "      <td>0.047</td>\n",
       "      <td>225.000</td>\n",
       "      <td>6.0</td>\n",
       "      <td>376.0</td>\n",
       "      <td>RIGHT</td>\n",
       "      <td>1.0</td>\n",
       "      <td>5.186</td>\n",
       "      <td>9.674</td>\n",
       "      <td>11.322</td>\n",
       "      <td>373.0</td>\n",
       "      <td>-502.0</td>\n",
       "      <td>1.0</td>\n",
       "      <td>2.593</td>\n",
       "      <td>4.837</td>\n",
       "      <td>False</td>\n",
       "      <td>False</td>\n",
       "    </tr>\n",
       "    <tr>\n",
       "      <th>4</th>\n",
       "      <td>0.123</td>\n",
       "      <td>181.637</td>\n",
       "      <td>8.0</td>\n",
       "      <td>476.0</td>\n",
       "      <td>RIGHT</td>\n",
       "      <td>1.0</td>\n",
       "      <td>5.186</td>\n",
       "      <td>9.674</td>\n",
       "      <td>18.706</td>\n",
       "      <td>472.0</td>\n",
       "      <td>-304.0</td>\n",
       "      <td>1.0</td>\n",
       "      <td>2.593</td>\n",
       "      <td>4.837</td>\n",
       "      <td>False</td>\n",
       "      <td>False</td>\n",
       "    </tr>\n",
       "  </tbody>\n",
       "</table>\n",
       "</div>"
      ],
      "text/plain": [
       "   amp_deg    angle  duration  end_frame_index    eye  fixation_index  miu_x  \\\n",
       "0    0.157  278.427       6.0            271.0  RIGHT             1.0  5.186   \n",
       "1    0.115  272.862       6.0            279.0  RIGHT             1.0  5.186   \n",
       "2    0.049  221.186       6.0            343.0  RIGHT             1.0  5.186   \n",
       "3    0.047  225.000       6.0            376.0  RIGHT             1.0  5.186   \n",
       "4    0.123  181.637       8.0            476.0  RIGHT             1.0  5.186   \n",
       "\n",
       "   miu_y  peak_vel  start_frame_index  start_time_to_target  trial_index  \\\n",
       "0  9.674    26.068              268.0                -712.0          1.0   \n",
       "1  9.674    20.128              276.0                -696.0          1.0   \n",
       "2  9.674     8.164              340.0                -568.0          1.0   \n",
       "3  9.674    11.322              373.0                -502.0          1.0   \n",
       "4  9.674    18.706              472.0                -304.0          1.0   \n",
       "\n",
       "   vel_std_x  vel_std_y  filter1_outlier  filter2_outlier  \n",
       "0      2.593      4.837            False            False  \n",
       "1      2.593      4.837            False            False  \n",
       "2      2.593      4.837            False            False  \n",
       "3      2.593      4.837            False            False  \n",
       "4      2.593      4.837            False            False  "
      ]
     },
     "metadata": {},
     "output_type": "display_data"
    },
    {
     "data": {
      "text/html": [
       "<div>\n",
       "<style scoped>\n",
       "    .dataframe tbody tr th:only-of-type {\n",
       "        vertical-align: middle;\n",
       "    }\n",
       "\n",
       "    .dataframe tbody tr th {\n",
       "        vertical-align: top;\n",
       "    }\n",
       "\n",
       "    .dataframe thead th {\n",
       "        text-align: right;\n",
       "    }\n",
       "</style>\n",
       "<table border=\"1\" class=\"dataframe\">\n",
       "  <thead>\n",
       "    <tr style=\"text-align: right;\">\n",
       "      <th></th>\n",
       "      <th>amp_deg</th>\n",
       "      <th>angle</th>\n",
       "      <th>duration</th>\n",
       "      <th>end_frame_index</th>\n",
       "      <th>eye</th>\n",
       "      <th>fixation_index</th>\n",
       "      <th>miu_x</th>\n",
       "      <th>miu_y</th>\n",
       "      <th>peak_vel</th>\n",
       "      <th>start_frame_index</th>\n",
       "      <th>start_time_to_target</th>\n",
       "      <th>trial_index</th>\n",
       "      <th>vel_std_x</th>\n",
       "      <th>vel_std_y</th>\n",
       "    </tr>\n",
       "  </thead>\n",
       "  <tbody>\n",
       "  </tbody>\n",
       "</table>\n",
       "</div>"
      ],
      "text/plain": [
       "Empty DataFrame\n",
       "Columns: [amp_deg, angle, duration, end_frame_index, eye, fixation_index, miu_x, miu_y, peak_vel, start_frame_index, start_time_to_target, trial_index, vel_std_x, vel_std_y]\n",
       "Index: []"
      ]
     },
     "metadata": {},
     "output_type": "display_data"
    }
   ],
   "source": [
    "display(MS_RIGHT.head())\n",
    "display(MS_LEFT.head())\n",
    "\n"
   ]
  },
  {
   "cell_type": "markdown",
   "metadata": {},
   "source": [
    "# Plot Main Sequence"
   ]
  },
  {
   "cell_type": "code",
   "execution_count": 19,
   "metadata": {},
   "outputs": [
    {
     "name": "stdout",
     "output_type": "stream",
     "text": [
      "Estimated coefficients ( RANSAC): slope:0.09, intercept:6.31\n"
     ]
    },
    {
     "data": {
      "image/png": "[encoded data removed]",
      "text/plain": [
       "<matplotlib.figure.Figure at 0x10d3ba940>"
      ]
     },
     "metadata": {},
     "output_type": "display_data"
    }
   ],
   "source": [
    "Plot_MS_MainSequence_with_ransac(MS_LEFT)\n",
    "Plot_MS_MainSequence_with_ransac(MS_RIGHT)\n",
    "\n"
   ]
  },
  {
   "cell_type": "markdown",
   "metadata": {},
   "source": [
    "# Plot trial"
   ]
  },
  {
   "cell_type": "code",
   "execution_count": 20,
   "metadata": {
    "scrolled": false
   },
   "outputs": [
    {
     "data": {
      "application/vnd.jupyter.widget-view+json": {
       "model_id": "b3c7f7385f9d4a769a1065e637522d5f",
       "version_major": 2,
       "version_minor": 0
      },
      "text/html": [
       "<p>Failed to display Jupyter Widget of type <code>interactive</code>.</p>\n",
       "<p>\n",
       "  If you're reading this message in the Jupyter Notebook or JupyterLab Notebook, it may mean\n",
       "  that the widgets JavaScript is still loading. If this message persists, it\n",
       "  likely means that the widgets JavaScript library is either not installed or\n",
       "  not enabled. See the <a href=\"https://ipywidgets.readthedocs.io/en/stable/user_install.html\">Jupyter\n",
       "  Widgets Documentation</a> for setup instructions.\n",
       "</p>\n",
       "<p>\n",
       "  If you're reading this message in another frontend (for example, a static\n",
       "  rendering on GitHub or <a href=\"https://nbviewer.jupyter.org/\">NBViewer</a>),\n",
       "  it may mean that your frontend doesn't currently support widgets.\n",
       "</p>\n"
      ],
      "text/plain": [
       "interactive(children=(Dropdown(description='trial_index', options=('select trial', 1, 2, 3, 4, 5, 6, 7, 8, 9, 10, 11, 12, 13, 14, 15, 16, 17, 18, 19, 20, 21, 22, 23, 24, 25, 26, 27, 28, 29, 30, 31, 32, 33, 34, 35, 36, 37, 38, 39, 40, 41, 42, 43, 44, 45, 46, 47, 48, 49, 50, 51, 52, 53, 54, 55, 56, 57, 58, 59, 60), value='select trial'), Output()), _dom_classes=('widget-interact',))"
      ]
     },
     "metadata": {},
     "output_type": "display_data"
    }
   ],
   "source": [
    "# PlotMicrosaccade(df,MS_LEFT,2)\n",
    "# _=interact(PlotMicrosaccade,tb=fixed(df),MS=fixed(MS_LEFT),trial_index=['select trial']+list(df.TRIAL_INDEX.unique()))\n",
    "_=interact(PlotMicrosaccade,tb=fixed(df),MS=fixed(MS_RIGHT),trial_index=['select trial']+list(df.TRIAL_INDEX.unique()))\n",
    "\n"
   ]
  },
  {
   "cell_type": "code",
   "execution_count": 21,
   "metadata": {},
   "outputs": [
    {
     "data": {
      "image/png": "[encoded data removed]",
      "text/plain": [
       "<matplotlib.figure.Figure at 0x10d3bae48>"
      ]
     },
     "metadata": {},
     "output_type": "display_data"
    }
   ],
   "source": [
    "PlotMicrosaccade_wormPlot(df,MS_RIGHT,df.TRIAL_INDEX.unique())"
   ]
  },
  {
   "cell_type": "markdown",
   "metadata": {},
   "source": [
    "# Binocular Microsaccades\n",
    "This function only works if both eyes are available. It basically adds a new column into each MS table indicating whether each microsaccade is a binocular one or not. "
   ]
  },
  {
   "cell_type": "code",
   "execution_count": 13,
   "metadata": {},
   "outputs": [],
   "source": [
    "MS_RIGHT,MS_LEFT=GetBinocular(df,MS_RIGHT,MS_LEFT)\n"
   ]
  },
  {
   "cell_type": "code",
   "execution_count": null,
   "metadata": {},
   "outputs": [],
   "source": []
  }
 ],
 "metadata": {
  "kernelspec": {
   "display_name": "Python 3",
   "language": "python",
   "name": "python3"
  },
  "language_info": {
   "codemirror_mode": {
    "name": "ipython",
    "version": 3
   },
   "file_extension": ".py",
   "mimetype": "text/x-python",
   "name": "python",
   "nbconvert_exporter": "python",
   "pygments_lexer": "ipython3",
   "version": "3.6.1"
  },
  "toc": {
   "colors": {
    "hover_highlight": "#DAA520",
    "navigate_num": "#000000",
    "navigate_text": "#333333",
    "running_highlight": "#FF0000",
    "selected_highlight": "#FFD700",
    "sidebar_border": "#EEEEEE",
    "wrapper_background": "#FFFFFF"
   },
   "moveMenuLeft": true,
   "nav_menu": {
    "height": "48px",
    "width": "252px"
   },
   "navigate_menu": true,
   "number_sections": true,
   "sideBar": true,
   "threshold": 4,
   "toc_cell": false,
   "toc_section_display": "block",
   "toc_window_display": false,
   "widenNotebook": false
  }
 },
 "nbformat": 4,
 "nbformat_minor": 2
}
